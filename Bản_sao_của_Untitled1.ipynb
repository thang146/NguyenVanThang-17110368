{
  "nbformat": 4,
  "nbformat_minor": 0,
  "metadata": {
    "colab": {
      "name": "Bản sao của Untitled1.ipynb",
      "provenance": [],
      "collapsed_sections": [],
      "include_colab_link": true
    },
    "kernelspec": {
      "name": "python3",
      "display_name": "Python 3"
    },
    "language_info": {
      "name": "python"
    }
  },
  "cells": [
    {
      "cell_type": "markdown",
      "metadata": {
        "id": "view-in-github",
        "colab_type": "text"
      },
      "source": [
        "<a href=\"https://colab.research.google.com/github/thang146/NguyenVanThang-17110368/blob/main/B%E1%BA%A3n_sao_c%E1%BB%A7a_Untitled1.ipynb\" target=\"_parent\"><img src=\"https://colab.research.google.com/assets/colab-badge.svg\" alt=\"Open In Colab\"/></a>"
      ]
    },
    {
      "cell_type": "code",
      "metadata": {
        "id": "6Pzca7aQJifu"
      },
      "source": [
        "import numpy as np\n",
        "import matplotlib.pyplot as plt\n",
        "import pandas as pd\n",
        "from sklearn.preprocessing import MinMaxScaler"
      ],
      "execution_count": null,
      "outputs": []
    },
    {
      "cell_type": "markdown",
      "metadata": {
        "id": "N3ydRHkcf19-"
      },
      "source": [
        "# Mục mới"
      ]
    },
    {
      "cell_type": "code",
      "metadata": {
        "colab": {
          "base_uri": "https://localhost:8080/",
          "height": 195
        },
        "id": "3asIkO0mJwQY",
        "outputId": "5e0d9fd6-8265-47c8-fe09-1416a8498cd8"
      },
      "source": [
        "data = pd.read_csv('/content/sample_data/BTC-USD.csv', date_parser = True)\n",
        "data.head()"
      ],
      "execution_count": null,
      "outputs": [
        {
          "output_type": "execute_result",
          "data": {
            "text/html": [
              "<div>\n",
              "<style scoped>\n",
              "    .dataframe tbody tr th:only-of-type {\n",
              "        vertical-align: middle;\n",
              "    }\n",
              "\n",
              "    .dataframe tbody tr th {\n",
              "        vertical-align: top;\n",
              "    }\n",
              "\n",
              "    .dataframe thead th {\n",
              "        text-align: right;\n",
              "    }\n",
              "</style>\n",
              "<table border=\"1\" class=\"dataframe\">\n",
              "  <thead>\n",
              "    <tr style=\"text-align: right;\">\n",
              "      <th></th>\n",
              "      <th>Date</th>\n",
              "      <th>Open</th>\n",
              "      <th>High</th>\n",
              "      <th>Low</th>\n",
              "      <th>Close</th>\n",
              "      <th>Adj Close</th>\n",
              "      <th>Volume</th>\n",
              "    </tr>\n",
              "  </thead>\n",
              "  <tbody>\n",
              "    <tr>\n",
              "      <th>0</th>\n",
              "      <td>2014-09-17</td>\n",
              "      <td>465.864014</td>\n",
              "      <td>468.174011</td>\n",
              "      <td>452.421997</td>\n",
              "      <td>457.334015</td>\n",
              "      <td>457.334015</td>\n",
              "      <td>21056800.0</td>\n",
              "    </tr>\n",
              "    <tr>\n",
              "      <th>1</th>\n",
              "      <td>2014-09-18</td>\n",
              "      <td>456.859985</td>\n",
              "      <td>456.859985</td>\n",
              "      <td>413.104004</td>\n",
              "      <td>424.440002</td>\n",
              "      <td>424.440002</td>\n",
              "      <td>34483200.0</td>\n",
              "    </tr>\n",
              "    <tr>\n",
              "      <th>2</th>\n",
              "      <td>2014-09-19</td>\n",
              "      <td>424.102997</td>\n",
              "      <td>427.834991</td>\n",
              "      <td>384.532013</td>\n",
              "      <td>394.795990</td>\n",
              "      <td>394.795990</td>\n",
              "      <td>37919700.0</td>\n",
              "    </tr>\n",
              "    <tr>\n",
              "      <th>3</th>\n",
              "      <td>2014-09-20</td>\n",
              "      <td>394.673004</td>\n",
              "      <td>423.295990</td>\n",
              "      <td>389.882996</td>\n",
              "      <td>408.903992</td>\n",
              "      <td>408.903992</td>\n",
              "      <td>36863600.0</td>\n",
              "    </tr>\n",
              "    <tr>\n",
              "      <th>4</th>\n",
              "      <td>2014-09-21</td>\n",
              "      <td>408.084991</td>\n",
              "      <td>412.425995</td>\n",
              "      <td>393.181000</td>\n",
              "      <td>398.821014</td>\n",
              "      <td>398.821014</td>\n",
              "      <td>26580100.0</td>\n",
              "    </tr>\n",
              "  </tbody>\n",
              "</table>\n",
              "</div>"
            ],
            "text/plain": [
              "         Date        Open        High  ...       Close   Adj Close      Volume\n",
              "0  2014-09-17  465.864014  468.174011  ...  457.334015  457.334015  21056800.0\n",
              "1  2014-09-18  456.859985  456.859985  ...  424.440002  424.440002  34483200.0\n",
              "2  2014-09-19  424.102997  427.834991  ...  394.795990  394.795990  37919700.0\n",
              "3  2014-09-20  394.673004  423.295990  ...  408.903992  408.903992  36863600.0\n",
              "4  2014-09-21  408.084991  412.425995  ...  398.821014  398.821014  26580100.0\n",
              "\n",
              "[5 rows x 7 columns]"
            ]
          },
          "metadata": {
            "tags": []
          },
          "execution_count": 2
        }
      ]
    },
    {
      "cell_type": "code",
      "metadata": {
        "colab": {
          "base_uri": "https://localhost:8080/",
          "height": 402
        },
        "id": "7UqGvas2J_Rf",
        "outputId": "d6c2e293-8137-4e0b-f854-f8c9b2af9f81"
      },
      "source": [
        "data_training = data[data['Date']< '2020-01-01'].copy()\n",
        "data_training"
      ],
      "execution_count": null,
      "outputs": [
        {
          "output_type": "execute_result",
          "data": {
            "text/html": [
              "<div>\n",
              "<style scoped>\n",
              "    .dataframe tbody tr th:only-of-type {\n",
              "        vertical-align: middle;\n",
              "    }\n",
              "\n",
              "    .dataframe tbody tr th {\n",
              "        vertical-align: top;\n",
              "    }\n",
              "\n",
              "    .dataframe thead th {\n",
              "        text-align: right;\n",
              "    }\n",
              "</style>\n",
              "<table border=\"1\" class=\"dataframe\">\n",
              "  <thead>\n",
              "    <tr style=\"text-align: right;\">\n",
              "      <th></th>\n",
              "      <th>Date</th>\n",
              "      <th>Open</th>\n",
              "      <th>High</th>\n",
              "      <th>Low</th>\n",
              "      <th>Close</th>\n",
              "      <th>Adj Close</th>\n",
              "      <th>Volume</th>\n",
              "    </tr>\n",
              "  </thead>\n",
              "  <tbody>\n",
              "    <tr>\n",
              "      <th>0</th>\n",
              "      <td>2014-09-17</td>\n",
              "      <td>465.864014</td>\n",
              "      <td>468.174011</td>\n",
              "      <td>452.421997</td>\n",
              "      <td>457.334015</td>\n",
              "      <td>457.334015</td>\n",
              "      <td>2.105680e+07</td>\n",
              "    </tr>\n",
              "    <tr>\n",
              "      <th>1</th>\n",
              "      <td>2014-09-18</td>\n",
              "      <td>456.859985</td>\n",
              "      <td>456.859985</td>\n",
              "      <td>413.104004</td>\n",
              "      <td>424.440002</td>\n",
              "      <td>424.440002</td>\n",
              "      <td>3.448320e+07</td>\n",
              "    </tr>\n",
              "    <tr>\n",
              "      <th>2</th>\n",
              "      <td>2014-09-19</td>\n",
              "      <td>424.102997</td>\n",
              "      <td>427.834991</td>\n",
              "      <td>384.532013</td>\n",
              "      <td>394.795990</td>\n",
              "      <td>394.795990</td>\n",
              "      <td>3.791970e+07</td>\n",
              "    </tr>\n",
              "    <tr>\n",
              "      <th>3</th>\n",
              "      <td>2014-09-20</td>\n",
              "      <td>394.673004</td>\n",
              "      <td>423.295990</td>\n",
              "      <td>389.882996</td>\n",
              "      <td>408.903992</td>\n",
              "      <td>408.903992</td>\n",
              "      <td>3.686360e+07</td>\n",
              "    </tr>\n",
              "    <tr>\n",
              "      <th>4</th>\n",
              "      <td>2014-09-21</td>\n",
              "      <td>408.084991</td>\n",
              "      <td>412.425995</td>\n",
              "      <td>393.181000</td>\n",
              "      <td>398.821014</td>\n",
              "      <td>398.821014</td>\n",
              "      <td>2.658010e+07</td>\n",
              "    </tr>\n",
              "    <tr>\n",
              "      <th>...</th>\n",
              "      <td>...</td>\n",
              "      <td>...</td>\n",
              "      <td>...</td>\n",
              "      <td>...</td>\n",
              "      <td>...</td>\n",
              "      <td>...</td>\n",
              "      <td>...</td>\n",
              "    </tr>\n",
              "    <tr>\n",
              "      <th>1927</th>\n",
              "      <td>2019-12-27</td>\n",
              "      <td>7238.141113</td>\n",
              "      <td>7363.529297</td>\n",
              "      <td>7189.934082</td>\n",
              "      <td>7290.088379</td>\n",
              "      <td>7290.088379</td>\n",
              "      <td>2.277736e+10</td>\n",
              "    </tr>\n",
              "    <tr>\n",
              "      <th>1928</th>\n",
              "      <td>2019-12-28</td>\n",
              "      <td>7289.031250</td>\n",
              "      <td>7399.041016</td>\n",
              "      <td>7286.905273</td>\n",
              "      <td>7317.990234</td>\n",
              "      <td>7317.990234</td>\n",
              "      <td>2.136567e+10</td>\n",
              "    </tr>\n",
              "    <tr>\n",
              "      <th>1929</th>\n",
              "      <td>2019-12-29</td>\n",
              "      <td>7317.647461</td>\n",
              "      <td>7513.948242</td>\n",
              "      <td>7279.865234</td>\n",
              "      <td>7422.652832</td>\n",
              "      <td>7422.652832</td>\n",
              "      <td>2.244526e+10</td>\n",
              "    </tr>\n",
              "    <tr>\n",
              "      <th>1930</th>\n",
              "      <td>2019-12-30</td>\n",
              "      <td>7420.272949</td>\n",
              "      <td>7454.824219</td>\n",
              "      <td>7276.308105</td>\n",
              "      <td>7292.995117</td>\n",
              "      <td>7292.995117</td>\n",
              "      <td>2.287413e+10</td>\n",
              "    </tr>\n",
              "    <tr>\n",
              "      <th>1931</th>\n",
              "      <td>2019-12-31</td>\n",
              "      <td>7294.438965</td>\n",
              "      <td>7335.290039</td>\n",
              "      <td>7169.777832</td>\n",
              "      <td>7193.599121</td>\n",
              "      <td>7193.599121</td>\n",
              "      <td>2.116795e+10</td>\n",
              "    </tr>\n",
              "  </tbody>\n",
              "</table>\n",
              "<p>1932 rows × 7 columns</p>\n",
              "</div>"
            ],
            "text/plain": [
              "            Date         Open  ...    Adj Close        Volume\n",
              "0     2014-09-17   465.864014  ...   457.334015  2.105680e+07\n",
              "1     2014-09-18   456.859985  ...   424.440002  3.448320e+07\n",
              "2     2014-09-19   424.102997  ...   394.795990  3.791970e+07\n",
              "3     2014-09-20   394.673004  ...   408.903992  3.686360e+07\n",
              "4     2014-09-21   408.084991  ...   398.821014  2.658010e+07\n",
              "...          ...          ...  ...          ...           ...\n",
              "1927  2019-12-27  7238.141113  ...  7290.088379  2.277736e+10\n",
              "1928  2019-12-28  7289.031250  ...  7317.990234  2.136567e+10\n",
              "1929  2019-12-29  7317.647461  ...  7422.652832  2.244526e+10\n",
              "1930  2019-12-30  7420.272949  ...  7292.995117  2.287413e+10\n",
              "1931  2019-12-31  7294.438965  ...  7193.599121  2.116795e+10\n",
              "\n",
              "[1932 rows x 7 columns]"
            ]
          },
          "metadata": {
            "tags": []
          },
          "execution_count": 3
        }
      ]
    },
    {
      "cell_type": "code",
      "metadata": {
        "colab": {
          "base_uri": "https://localhost:8080/",
          "height": 402
        },
        "id": "y4YwdSjmKCOn",
        "outputId": "52360c2d-f923-43d5-be49-857c689f4169"
      },
      "source": [
        "data_test = data[data['Date']> '2020-01-01'].copy()\n",
        "data_test"
      ],
      "execution_count": null,
      "outputs": [
        {
          "output_type": "execute_result",
          "data": {
            "text/html": [
              "<div>\n",
              "<style scoped>\n",
              "    .dataframe tbody tr th:only-of-type {\n",
              "        vertical-align: middle;\n",
              "    }\n",
              "\n",
              "    .dataframe tbody tr th {\n",
              "        vertical-align: top;\n",
              "    }\n",
              "\n",
              "    .dataframe thead th {\n",
              "        text-align: right;\n",
              "    }\n",
              "</style>\n",
              "<table border=\"1\" class=\"dataframe\">\n",
              "  <thead>\n",
              "    <tr style=\"text-align: right;\">\n",
              "      <th></th>\n",
              "      <th>Date</th>\n",
              "      <th>Open</th>\n",
              "      <th>High</th>\n",
              "      <th>Low</th>\n",
              "      <th>Close</th>\n",
              "      <th>Adj Close</th>\n",
              "      <th>Volume</th>\n",
              "    </tr>\n",
              "  </thead>\n",
              "  <tbody>\n",
              "    <tr>\n",
              "      <th>1933</th>\n",
              "      <td>2020-01-02</td>\n",
              "      <td>7202.551270</td>\n",
              "      <td>7212.155273</td>\n",
              "      <td>6935.270020</td>\n",
              "      <td>6985.470215</td>\n",
              "      <td>6985.470215</td>\n",
              "      <td>2.080208e+10</td>\n",
              "    </tr>\n",
              "    <tr>\n",
              "      <th>1934</th>\n",
              "      <td>2020-01-03</td>\n",
              "      <td>6984.428711</td>\n",
              "      <td>7413.715332</td>\n",
              "      <td>6914.996094</td>\n",
              "      <td>7344.884277</td>\n",
              "      <td>7344.884277</td>\n",
              "      <td>2.811148e+10</td>\n",
              "    </tr>\n",
              "    <tr>\n",
              "      <th>1935</th>\n",
              "      <td>2020-01-04</td>\n",
              "      <td>7345.375488</td>\n",
              "      <td>7427.385742</td>\n",
              "      <td>7309.514160</td>\n",
              "      <td>7410.656738</td>\n",
              "      <td>7410.656738</td>\n",
              "      <td>1.844427e+10</td>\n",
              "    </tr>\n",
              "    <tr>\n",
              "      <th>1936</th>\n",
              "      <td>2020-01-05</td>\n",
              "      <td>7410.451660</td>\n",
              "      <td>7544.497070</td>\n",
              "      <td>7400.535645</td>\n",
              "      <td>7411.317383</td>\n",
              "      <td>7411.317383</td>\n",
              "      <td>1.972507e+10</td>\n",
              "    </tr>\n",
              "    <tr>\n",
              "      <th>1937</th>\n",
              "      <td>2020-01-06</td>\n",
              "      <td>7410.452148</td>\n",
              "      <td>7781.867188</td>\n",
              "      <td>7409.292969</td>\n",
              "      <td>7769.219238</td>\n",
              "      <td>7769.219238</td>\n",
              "      <td>2.327626e+10</td>\n",
              "    </tr>\n",
              "    <tr>\n",
              "      <th>...</th>\n",
              "      <td>...</td>\n",
              "      <td>...</td>\n",
              "      <td>...</td>\n",
              "      <td>...</td>\n",
              "      <td>...</td>\n",
              "      <td>...</td>\n",
              "      <td>...</td>\n",
              "    </tr>\n",
              "    <tr>\n",
              "      <th>2075</th>\n",
              "      <td>2020-05-23</td>\n",
              "      <td>9185.062500</td>\n",
              "      <td>9302.501953</td>\n",
              "      <td>9118.108398</td>\n",
              "      <td>9209.287109</td>\n",
              "      <td>9209.287109</td>\n",
              "      <td>2.772787e+10</td>\n",
              "    </tr>\n",
              "    <tr>\n",
              "      <th>2076</th>\n",
              "      <td>2020-05-24</td>\n",
              "      <td>9212.283203</td>\n",
              "      <td>9288.404297</td>\n",
              "      <td>8787.250977</td>\n",
              "      <td>8790.368164</td>\n",
              "      <td>8790.368164</td>\n",
              "      <td>3.251880e+10</td>\n",
              "    </tr>\n",
              "    <tr>\n",
              "      <th>2077</th>\n",
              "      <td>2020-05-25</td>\n",
              "      <td>8786.107422</td>\n",
              "      <td>8951.005859</td>\n",
              "      <td>8719.667969</td>\n",
              "      <td>8906.934570</td>\n",
              "      <td>8906.934570</td>\n",
              "      <td>3.128816e+10</td>\n",
              "    </tr>\n",
              "    <tr>\n",
              "      <th>2078</th>\n",
              "      <td>2020-05-26</td>\n",
              "      <td>NaN</td>\n",
              "      <td>NaN</td>\n",
              "      <td>NaN</td>\n",
              "      <td>NaN</td>\n",
              "      <td>NaN</td>\n",
              "      <td>NaN</td>\n",
              "    </tr>\n",
              "    <tr>\n",
              "      <th>2079</th>\n",
              "      <td>2020-05-27</td>\n",
              "      <td>8834.157227</td>\n",
              "      <td>8859.578125</td>\n",
              "      <td>8834.157227</td>\n",
              "      <td>8856.885742</td>\n",
              "      <td>8856.885742</td>\n",
              "      <td>2.914432e+10</td>\n",
              "    </tr>\n",
              "  </tbody>\n",
              "</table>\n",
              "<p>147 rows × 7 columns</p>\n",
              "</div>"
            ],
            "text/plain": [
              "            Date         Open  ...    Adj Close        Volume\n",
              "1933  2020-01-02  7202.551270  ...  6985.470215  2.080208e+10\n",
              "1934  2020-01-03  6984.428711  ...  7344.884277  2.811148e+10\n",
              "1935  2020-01-04  7345.375488  ...  7410.656738  1.844427e+10\n",
              "1936  2020-01-05  7410.451660  ...  7411.317383  1.972507e+10\n",
              "1937  2020-01-06  7410.452148  ...  7769.219238  2.327626e+10\n",
              "...          ...          ...  ...          ...           ...\n",
              "2075  2020-05-23  9185.062500  ...  9209.287109  2.772787e+10\n",
              "2076  2020-05-24  9212.283203  ...  8790.368164  3.251880e+10\n",
              "2077  2020-05-25  8786.107422  ...  8906.934570  3.128816e+10\n",
              "2078  2020-05-26          NaN  ...          NaN           NaN\n",
              "2079  2020-05-27  8834.157227  ...  8856.885742  2.914432e+10\n",
              "\n",
              "[147 rows x 7 columns]"
            ]
          },
          "metadata": {
            "tags": []
          },
          "execution_count": 4
        }
      ]
    },
    {
      "cell_type": "code",
      "metadata": {
        "colab": {
          "base_uri": "https://localhost:8080/",
          "height": 195
        },
        "id": "1a9raugoKG9_",
        "outputId": "a2c88a0c-5400-4e60-ade4-9b8e99419fcb"
      },
      "source": [
        "training_data = data_training.drop(['Date', 'Adj Close'], axis = 1)\n",
        "training_data.head()"
      ],
      "execution_count": null,
      "outputs": [
        {
          "output_type": "execute_result",
          "data": {
            "text/html": [
              "<div>\n",
              "<style scoped>\n",
              "    .dataframe tbody tr th:only-of-type {\n",
              "        vertical-align: middle;\n",
              "    }\n",
              "\n",
              "    .dataframe tbody tr th {\n",
              "        vertical-align: top;\n",
              "    }\n",
              "\n",
              "    .dataframe thead th {\n",
              "        text-align: right;\n",
              "    }\n",
              "</style>\n",
              "<table border=\"1\" class=\"dataframe\">\n",
              "  <thead>\n",
              "    <tr style=\"text-align: right;\">\n",
              "      <th></th>\n",
              "      <th>Open</th>\n",
              "      <th>High</th>\n",
              "      <th>Low</th>\n",
              "      <th>Close</th>\n",
              "      <th>Volume</th>\n",
              "    </tr>\n",
              "  </thead>\n",
              "  <tbody>\n",
              "    <tr>\n",
              "      <th>0</th>\n",
              "      <td>465.864014</td>\n",
              "      <td>468.174011</td>\n",
              "      <td>452.421997</td>\n",
              "      <td>457.334015</td>\n",
              "      <td>21056800.0</td>\n",
              "    </tr>\n",
              "    <tr>\n",
              "      <th>1</th>\n",
              "      <td>456.859985</td>\n",
              "      <td>456.859985</td>\n",
              "      <td>413.104004</td>\n",
              "      <td>424.440002</td>\n",
              "      <td>34483200.0</td>\n",
              "    </tr>\n",
              "    <tr>\n",
              "      <th>2</th>\n",
              "      <td>424.102997</td>\n",
              "      <td>427.834991</td>\n",
              "      <td>384.532013</td>\n",
              "      <td>394.795990</td>\n",
              "      <td>37919700.0</td>\n",
              "    </tr>\n",
              "    <tr>\n",
              "      <th>3</th>\n",
              "      <td>394.673004</td>\n",
              "      <td>423.295990</td>\n",
              "      <td>389.882996</td>\n",
              "      <td>408.903992</td>\n",
              "      <td>36863600.0</td>\n",
              "    </tr>\n",
              "    <tr>\n",
              "      <th>4</th>\n",
              "      <td>408.084991</td>\n",
              "      <td>412.425995</td>\n",
              "      <td>393.181000</td>\n",
              "      <td>398.821014</td>\n",
              "      <td>26580100.0</td>\n",
              "    </tr>\n",
              "  </tbody>\n",
              "</table>\n",
              "</div>"
            ],
            "text/plain": [
              "         Open        High         Low       Close      Volume\n",
              "0  465.864014  468.174011  452.421997  457.334015  21056800.0\n",
              "1  456.859985  456.859985  413.104004  424.440002  34483200.0\n",
              "2  424.102997  427.834991  384.532013  394.795990  37919700.0\n",
              "3  394.673004  423.295990  389.882996  408.903992  36863600.0\n",
              "4  408.084991  412.425995  393.181000  398.821014  26580100.0"
            ]
          },
          "metadata": {
            "tags": []
          },
          "execution_count": 5
        }
      ]
    },
    {
      "cell_type": "code",
      "metadata": {
        "colab": {
          "base_uri": "https://localhost:8080/"
        },
        "id": "VsKjHwXeKIgv",
        "outputId": "19098300-b95b-460b-8257-b43fe1b8377b"
      },
      "source": [
        "scaler = MinMaxScaler()\n",
        "training_data = scaler.fit_transform(training_data)\n",
        "training_data"
      ],
      "execution_count": null,
      "outputs": [
        {
          "output_type": "execute_result",
          "data": {
            "text/plain": [
              "array([[1.49732345e-02, 1.29013200e-02, 1.49400698e-02, 1.44534769e-02,\n",
              "        3.35749244e-04],\n",
              "       [1.45066780e-02, 1.23321258e-02, 1.28489753e-02, 1.27508263e-02,\n",
              "        6.33453324e-04],\n",
              "       [1.28093283e-02, 1.08719155e-02, 1.13293978e-02, 1.12164013e-02,\n",
              "        7.09650970e-04],\n",
              "       ...,\n",
              "       [3.70008086e-01, 3.67365217e-01, 3.78051927e-01, 3.74990337e-01,\n",
              "        4.97548412e-01],\n",
              "       [3.75325771e-01, 3.64390763e-01, 3.77862744e-01, 3.68279031e-01,\n",
              "        5.07057851e-01],\n",
              "       [3.68805505e-01, 3.58377151e-01, 3.72197021e-01, 3.63134123e-01,\n",
              "        4.69226533e-01]])"
            ]
          },
          "metadata": {
            "tags": []
          },
          "execution_count": 6
        }
      ]
    },
    {
      "cell_type": "code",
      "metadata": {
        "id": "Isn-tYr1KOr3"
      },
      "source": [
        "X_train = []\n",
        "Y_train = []"
      ],
      "execution_count": null,
      "outputs": []
    },
    {
      "cell_type": "code",
      "metadata": {
        "colab": {
          "base_uri": "https://localhost:8080/"
        },
        "id": "geAYGzB4KWFA",
        "outputId": "d5eef26a-7d90-46ce-9519-047fcd7661d1"
      },
      "source": [
        "training_data.shape[0]  "
      ],
      "execution_count": null,
      "outputs": [
        {
          "output_type": "execute_result",
          "data": {
            "text/plain": [
              "1932"
            ]
          },
          "metadata": {
            "tags": []
          },
          "execution_count": 8
        }
      ]
    },
    {
      "cell_type": "code",
      "metadata": {
        "id": "5OiWCPyXKaRQ"
      },
      "source": [
        "\n",
        "for i in range(60, training_data.shape[0]):\n",
        "    X_train.append(training_data[i-60:i])\n",
        "    Y_train.append(training_data[i,0])"
      ],
      "execution_count": null,
      "outputs": []
    },
    {
      "cell_type": "code",
      "metadata": {
        "colab": {
          "base_uri": "https://localhost:8080/"
        },
        "id": "XgUiK__iKdew",
        "outputId": "0b4be2c6-8b4f-44e2-9331-f079dee5e521"
      },
      "source": [
        "X_train, Y_train = np.array(X_train), np.array(Y_train)\n",
        "\n",
        "X_train.shape"
      ],
      "execution_count": null,
      "outputs": [
        {
          "output_type": "execute_result",
          "data": {
            "text/plain": [
              "(1872, 60, 5)"
            ]
          },
          "metadata": {
            "tags": []
          },
          "execution_count": 10
        }
      ]
    },
    {
      "cell_type": "code",
      "metadata": {
        "colab": {
          "base_uri": "https://localhost:8080/"
        },
        "id": "AIxAT4YGK56G",
        "outputId": "20ad58bf-d011-423d-9c09-1ac822574ace"
      },
      "source": [
        "from tensorflow.keras.layers import Dense, LSTM, Dropout,Bidirectional\n",
        "from tensorflow.keras import Sequential\n",
        "\n",
        "regressor = Sequential()\n",
        "regressor.add(LSTM(units = 50, activation = 'relu', return_sequences = True, input_shape = (X_train.shape[1], 5)))\n",
        "regressor.add(Dropout(0.2))\n",
        "\n",
        "regressor.add(LSTM(units = 60, activation = 'relu', return_sequences = True))\n",
        "regressor.add(Dropout(0.3))\n",
        "\n",
        "regressor.add(LSTM(units = 80, activation = 'relu', return_sequences = True))\n",
        "regressor.add(Dropout(0.4))\n",
        "\n",
        "regressor.add(LSTM(units = 120, activation = 'relu'))\n",
        "regressor.add(Dropout(0.5))\n",
        "\n",
        "regressor.add(Dense(units =1))\n",
        "\n",
        "regressor.summary()"
      ],
      "execution_count": null,
      "outputs": [
        {
          "output_type": "stream",
          "text": [
            "Model: \"sequential\"\n",
            "_________________________________________________________________\n",
            "Layer (type)                 Output Shape              Param #   \n",
            "=================================================================\n",
            "lstm (LSTM)                  (None, 60, 50)            11200     \n",
            "_________________________________________________________________\n",
            "dropout (Dropout)            (None, 60, 50)            0         \n",
            "_________________________________________________________________\n",
            "lstm_1 (LSTM)                (None, 60, 60)            26640     \n",
            "_________________________________________________________________\n",
            "dropout_1 (Dropout)          (None, 60, 60)            0         \n",
            "_________________________________________________________________\n",
            "lstm_2 (LSTM)                (None, 60, 80)            45120     \n",
            "_________________________________________________________________\n",
            "dropout_2 (Dropout)          (None, 60, 80)            0         \n",
            "_________________________________________________________________\n",
            "lstm_3 (LSTM)                (None, 120)               96480     \n",
            "_________________________________________________________________\n",
            "dropout_3 (Dropout)          (None, 120)               0         \n",
            "_________________________________________________________________\n",
            "dense (Dense)                (None, 1)                 121       \n",
            "=================================================================\n",
            "Total params: 179,561\n",
            "Trainable params: 179,561\n",
            "Non-trainable params: 0\n",
            "_________________________________________________________________\n"
          ],
          "name": "stdout"
        }
      ]
    },
    {
      "cell_type": "code",
      "metadata": {
        "colab": {
          "base_uri": "https://localhost:8080/"
        },
        "id": "ionpl4_eLD-3",
        "outputId": "e2e82c25-ca89-438a-eff7-b8950e947aae"
      },
      "source": [
        "regressor.compile(optimizer = 'adam', loss = 'mean_squared_error')\n",
        "\n",
        "regressor.fit(X_train, Y_train, epochs = 20, batch_size =50)"
      ],
      "execution_count": null,
      "outputs": [
        {
          "output_type": "stream",
          "text": [
            "Epoch 1/20\n",
            "38/38 [==============================] - 11s 188ms/step - loss: 0.0373\n",
            "Epoch 2/20\n",
            "38/38 [==============================] - 7s 180ms/step - loss: 0.0056\n",
            "Epoch 3/20\n",
            "38/38 [==============================] - 7s 180ms/step - loss: 0.0066\n",
            "Epoch 4/20\n",
            "38/38 [==============================] - 7s 182ms/step - loss: 0.0042\n",
            "Epoch 5/20\n",
            "38/38 [==============================] - 7s 185ms/step - loss: 0.0042\n",
            "Epoch 6/20\n",
            "38/38 [==============================] - 7s 185ms/step - loss: 0.0036\n",
            "Epoch 7/20\n",
            "38/38 [==============================] - 7s 185ms/step - loss: 0.0035\n",
            "Epoch 8/20\n",
            "38/38 [==============================] - 7s 185ms/step - loss: 0.0037\n",
            "Epoch 9/20\n",
            "38/38 [==============================] - 7s 185ms/step - loss: 0.0031\n",
            "Epoch 10/20\n",
            "38/38 [==============================] - 7s 184ms/step - loss: 0.0031\n",
            "Epoch 11/20\n",
            "38/38 [==============================] - 7s 190ms/step - loss: 0.0037\n",
            "Epoch 12/20\n",
            "38/38 [==============================] - 7s 186ms/step - loss: 0.0029\n",
            "Epoch 13/20\n",
            "38/38 [==============================] - 7s 185ms/step - loss: 0.0026\n",
            "Epoch 14/20\n",
            "38/38 [==============================] - 7s 182ms/step - loss: 0.0024\n",
            "Epoch 15/20\n",
            "38/38 [==============================] - 7s 183ms/step - loss: 0.0025\n",
            "Epoch 16/20\n",
            "38/38 [==============================] - 7s 183ms/step - loss: 0.0026\n",
            "Epoch 17/20\n",
            "38/38 [==============================] - 7s 184ms/step - loss: 0.0024\n",
            "Epoch 18/20\n",
            "38/38 [==============================] - 7s 180ms/step - loss: 0.0028\n",
            "Epoch 19/20\n",
            "38/38 [==============================] - 7s 181ms/step - loss: 0.0027\n",
            "Epoch 20/20\n",
            "38/38 [==============================] - 7s 183ms/step - loss: 0.0021\n"
          ],
          "name": "stdout"
        },
        {
          "output_type": "execute_result",
          "data": {
            "text/plain": [
              "<tensorflow.python.keras.callbacks.History at 0x7f4a62d9c810>"
            ]
          },
          "metadata": {
            "tags": []
          },
          "execution_count": 12
        }
      ]
    },
    {
      "cell_type": "code",
      "metadata": {
        "colab": {
          "base_uri": "https://localhost:8080/",
          "height": 195
        },
        "id": "MI0lxBoeLdnf",
        "outputId": "68f11a0e-2621-4d47-b8c3-6cf6a566f888"
      },
      "source": [
        "past_60_days = data_training.tail(60)\n",
        "df= past_60_days.append(data_test, ignore_index = True)\n",
        "df = df.drop(['Date', 'Adj Close'], axis = 1)\n",
        "df.head()"
      ],
      "execution_count": null,
      "outputs": [
        {
          "output_type": "execute_result",
          "data": {
            "text/html": [
              "<div>\n",
              "<style scoped>\n",
              "    .dataframe tbody tr th:only-of-type {\n",
              "        vertical-align: middle;\n",
              "    }\n",
              "\n",
              "    .dataframe tbody tr th {\n",
              "        vertical-align: top;\n",
              "    }\n",
              "\n",
              "    .dataframe thead th {\n",
              "        text-align: right;\n",
              "    }\n",
              "</style>\n",
              "<table border=\"1\" class=\"dataframe\">\n",
              "  <thead>\n",
              "    <tr style=\"text-align: right;\">\n",
              "      <th></th>\n",
              "      <th>Open</th>\n",
              "      <th>High</th>\n",
              "      <th>Low</th>\n",
              "      <th>Close</th>\n",
              "      <th>Volume</th>\n",
              "    </tr>\n",
              "  </thead>\n",
              "  <tbody>\n",
              "    <tr>\n",
              "      <th>0</th>\n",
              "      <td>9259.783203</td>\n",
              "      <td>9377.486328</td>\n",
              "      <td>9249.587891</td>\n",
              "      <td>9324.717773</td>\n",
              "      <td>2.124268e+10</td>\n",
              "    </tr>\n",
              "    <tr>\n",
              "      <th>1</th>\n",
              "      <td>9324.787109</td>\n",
              "      <td>9379.806641</td>\n",
              "      <td>9141.251953</td>\n",
              "      <td>9235.354492</td>\n",
              "      <td>2.113222e+10</td>\n",
              "    </tr>\n",
              "    <tr>\n",
              "      <th>2</th>\n",
              "      <td>9235.607422</td>\n",
              "      <td>9505.051758</td>\n",
              "      <td>9191.485352</td>\n",
              "      <td>9412.612305</td>\n",
              "      <td>2.617026e+10</td>\n",
              "    </tr>\n",
              "    <tr>\n",
              "      <th>3</th>\n",
              "      <td>9413.004883</td>\n",
              "      <td>9457.417969</td>\n",
              "      <td>9256.931641</td>\n",
              "      <td>9342.527344</td>\n",
              "      <td>2.619861e+10</td>\n",
              "    </tr>\n",
              "    <tr>\n",
              "      <th>4</th>\n",
              "      <td>9340.864258</td>\n",
              "      <td>9423.237305</td>\n",
              "      <td>9305.909180</td>\n",
              "      <td>9360.879883</td>\n",
              "      <td>2.313390e+10</td>\n",
              "    </tr>\n",
              "  </tbody>\n",
              "</table>\n",
              "</div>"
            ],
            "text/plain": [
              "          Open         High          Low        Close        Volume\n",
              "0  9259.783203  9377.486328  9249.587891  9324.717773  2.124268e+10\n",
              "1  9324.787109  9379.806641  9141.251953  9235.354492  2.113222e+10\n",
              "2  9235.607422  9505.051758  9191.485352  9412.612305  2.617026e+10\n",
              "3  9413.004883  9457.417969  9256.931641  9342.527344  2.619861e+10\n",
              "4  9340.864258  9423.237305  9305.909180  9360.879883  2.313390e+10"
            ]
          },
          "metadata": {
            "tags": []
          },
          "execution_count": 13
        }
      ]
    },
    {
      "cell_type": "code",
      "metadata": {
        "id": "mxXxLkVSLil3"
      },
      "source": [
        "inputs = scaler.transform(df)\n",
        "X_test = []\n",
        "Y_test = []\n",
        "for i in range (60, inputs.shape[0]):\n",
        "    X_test.append(inputs[i-60:i])\n",
        "    Y_test.append(inputs[i, 0])"
      ],
      "execution_count": null,
      "outputs": []
    },
    {
      "cell_type": "code",
      "metadata": {
        "colab": {
          "base_uri": "https://localhost:8080/"
        },
        "id": "0q4_kbKTLpJ2",
        "outputId": "25226f05-b0cb-4861-ad40-7e088aa6ef5f"
      },
      "source": [
        "X_test, Y_test = np.array(X_test), np.array(Y_test)\n",
        "X_test.shape, Y_test.shape"
      ],
      "execution_count": null,
      "outputs": [
        {
          "output_type": "execute_result",
          "data": {
            "text/plain": [
              "((147, 60, 5), (147,))"
            ]
          },
          "metadata": {
            "tags": []
          },
          "execution_count": 15
        }
      ]
    },
    {
      "cell_type": "code",
      "metadata": {
        "id": "BwPv5dgiLrux"
      },
      "source": [
        "Y_pred = regressor.predict(X_test)\n",
        "scaler.scale_\n",
        "scale = 1/5.18164146e-05\n",
        "\n",
        "Y_test = Y_test*scale\n",
        "Y_pred = Y_pred*scale"
      ],
      "execution_count": null,
      "outputs": []
    },
    {
      "cell_type": "code",
      "metadata": {
        "colab": {
          "base_uri": "https://localhost:8080/",
          "height": 350
        },
        "id": "bVdbwkbmL2g3",
        "outputId": "93b91c5e-e461-4b6f-8b3d-8ead9b023b53"
      },
      "source": [
        "\n",
        "plt.figure(figsize=(14,5))\n",
        "plt.plot(Y_test, color = 'red', label = 'Real Bitcoin Price')\n",
        "plt.plot(Y_pred, color = 'green', label = 'Predicted Bitcoin Price')\n",
        "plt.title('Bitcoin Price Prediction using RNN-LSTM')\n",
        "plt.xlabel('Time')\n",
        "plt.ylabel('Price')\n",
        "plt.legend()\n",
        "plt.show()"
      ],
      "execution_count": null,
      "outputs": [
        {
          "output_type": "display_data",
          "data": {
            "image/png": "[encoded data removed]",
            "text/plain": [
              "<Figure size 1008x360 with 1 Axes>"
            ]
          },
          "metadata": {
            "tags": [],
            "needs_background": "light"
          }
        }
      ]
    },
    {
      "cell_type": "code",
      "metadata": {
        "colab": {
          "base_uri": "https://localhost:8080/",
          "height": 195
        },
        "id": "UcLuaxEVOtji",
        "outputId": "84230e9b-6fcd-4737-be02-02417572c4f5"
      },
      "source": [
        ""
      ],
      "execution_count": null,
      "outputs": [
        {
          "output_type": "stream",
          "text": [
            "5/5 [==============================] - 1s 36ms/step - loss: nan\n"
          ],
          "name": "stdout"
        },
        {
          "output_type": "error",
          "ename": "TypeError",
          "evalue": "ignored",
          "traceback": [
            "\u001b[0;31m---------------------------------------------------------------------------\u001b[0m",
            "\u001b[0;31mTypeError\u001b[0m                                 Traceback (most recent call last)",
            "\u001b[0;32m<ipython-input-18-fe2d3541d466>\u001b[0m in \u001b[0;36m<module>\u001b[0;34m()\u001b[0m\n\u001b[0;32m----> 1\u001b[0;31m \u001b[0mloss\u001b[0m\u001b[0;34m,\u001b[0m \u001b[0macc\u001b[0m \u001b[0;34m=\u001b[0m \u001b[0mregressor\u001b[0m\u001b[0;34m.\u001b[0m\u001b[0mevaluate\u001b[0m\u001b[0;34m(\u001b[0m\u001b[0mX_test\u001b[0m\u001b[0;34m,\u001b[0m \u001b[0mY_test\u001b[0m\u001b[0;34m,\u001b[0m \u001b[0mverbose\u001b[0m\u001b[0;34m=\u001b[0m\u001b[0;36m1\u001b[0m\u001b[0;34m)\u001b[0m\u001b[0;34m\u001b[0m\u001b[0;34m\u001b[0m\u001b[0m\n\u001b[0m\u001b[1;32m      2\u001b[0m \u001b[0mprint\u001b[0m\u001b[0;34m(\u001b[0m\u001b[0;34m'Restored model, accuracy: {:5.2f}%'\u001b[0m\u001b[0;34m.\u001b[0m\u001b[0mformat\u001b[0m\u001b[0;34m(\u001b[0m\u001b[0;36m100\u001b[0m\u001b[0;34m*\u001b[0m\u001b[0macc\u001b[0m\u001b[0;34m)\u001b[0m\u001b[0;34m)\u001b[0m\u001b[0;34m\u001b[0m\u001b[0;34m\u001b[0m\u001b[0m\n",
            "\u001b[0;31mTypeError\u001b[0m: cannot unpack non-iterable float object"
          ]
        }
      ]
    }
  ]
}